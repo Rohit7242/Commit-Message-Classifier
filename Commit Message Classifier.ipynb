{
 "cells": [
  {
   "cell_type": "code",
   "execution_count": 1,
   "id": "19c2e83a-490c-456d-b389-af7db9187323",
   "metadata": {},
   "outputs": [
    {
     "name": "stdout",
     "output_type": "stream",
     "text": [
      "\n",
      "Label distribution:\n",
      " label\n",
      "0    20\n",
      "1    20\n",
      "Name: count, dtype: int64\n",
      "Confusion Matrix:\n",
      " [[3 2]\n",
      " [1 2]]\n",
      "\n",
      "Classification Report:\n",
      "               precision    recall  f1-score   support\n",
      "\n",
      "           0       0.75      0.60      0.67         5\n",
      "           1       0.50      0.67      0.57         3\n",
      "\n",
      "    accuracy                           0.62         8\n",
      "   macro avg       0.62      0.63      0.62         8\n",
      "weighted avg       0.66      0.62      0.63         8\n",
      "\n"
     ]
    },
    {
     "data": {
      "text/plain": [
       "['vectorizer.pkl']"
      ]
     },
     "execution_count": 1,
     "metadata": {},
     "output_type": "execute_result"
    }
   ],
   "source": [
    "### Import Libraries\n",
    "\n",
    "import pandas as pd\n",
    "import re\n",
    "import joblib\n",
    "from sklearn.model_selection import train_test_split\n",
    "from sklearn.feature_extraction.text import TfidfVectorizer\n",
    "from sklearn.linear_model import LogisticRegression\n",
    "from sklearn.metrics import classification_report, confusion_matrix\n",
    "\n",
    "### Load Dataset\n",
    "\n",
    "# 20 Low Quality commit messages (vague/short)\n",
    "low_quality = [\n",
    "    \"fixed stuff\", \"update code\", \"bug fix\", \"misc changes\",\n",
    "    \"minor update\", \"quick change\", \"changes done\", \"update readme\",\n",
    "    \"fix issues\", \"edit files\", \"temporary fix\", \"tweak code\",\n",
    "    \"small change\", \"refactor\", \"fix typo\", \"update docs\",\n",
    "    \"minor fix\", \"patch code\", \"code cleanup\", \"adjust files\"\n",
    "]\n",
    "\n",
    "# 20 High Quality commit messages (descriptive)\n",
    "high_quality = [\n",
    "    \"add error handling in API\", \"optimize database queries\",\n",
    "    \"improve login validation\", \"fix typo in README\",\n",
    "    \"refactor user model\", \"update docs for installation\",\n",
    "    \"improve UI responsiveness\", \"resolve crash when user logs out\",\n",
    "    \"add unit tests for user service\", \"fix null pointer in checkout process\",\n",
    "    \"implement JWT authentication for users\", \"update search functionality with caching\",\n",
    "    \"add email verification on signup\", \"fix memory leak in data processing\",\n",
    "    \"refactor payment module for efficiency\", \"update API response formatting\",\n",
    "    \"improve password encryption\", \"fix session timeout issue\",\n",
    "    \"add logging for error tracking\", \"enhance file upload validation\"\n",
    "]\n",
    "\n",
    "# Combine into one DataFrame\n",
    "data = {\n",
    "    \"commit_message\": low_quality + high_quality,\n",
    "    \"label\": [0]*20 + [1]*20  # 0 = Low Quality, 1 = High Quality\n",
    "}\n",
    "\n",
    "df = pd.DataFrame(data)\n",
    "print(\"\\nLabel distribution:\\n\", df[\"label\"].value_counts())\n",
    "\n",
    "### Preprocess Text\n",
    "\n",
    "def clean_text(text):\n",
    "    text = text.lower()\n",
    "    text = re.sub(r\"[^a-z0-9\\s]\", \"\", text)\n",
    "    return text\n",
    "\n",
    "df[\"cleaned\"] = df[\"commit_message\"].apply(clean_text)\n",
    "\n",
    "### Split Data\n",
    "\n",
    "X_train, X_test, y_train, y_test = train_test_split(\n",
    "    df[\"cleaned\"], df[\"label\"], test_size=0.2, random_state=42\n",
    ")\n",
    "\n",
    "### Convert Text to Features (TF-IDF)\n",
    "\n",
    "vectorizer = TfidfVectorizer(ngram_range=(1,2), stop_words=\"english\")\n",
    "X_train_vec = vectorizer.fit_transform(X_train)\n",
    "X_test_vec = vectorizer.transform(X_test)\n",
    "\n",
    "### Train Classifier\n",
    "\n",
    "model = LogisticRegression(max_iter=1000)\n",
    "model.fit(X_train_vec, y_train)\n",
    "\n",
    "### Evaluate Model\n",
    "\n",
    "y_pred = model.predict(X_test_vec)\n",
    "print(\"Confusion Matrix:\\n\", confusion_matrix(y_test, y_pred))\n",
    "print(\"\\nClassification Report:\\n\", classification_report(y_test, y_pred))\n",
    "\n",
    "### Test Your Own Commit Messages\n",
    "\n",
    "joblib.dump(model, \"commit_classifier.pkl\")\n",
    "joblib.dump(vectorizer, \"vectorizer.pkl\")"
   ]
  },
  {
   "cell_type": "code",
   "execution_count": null,
   "id": "80902ad2-8880-4b5e-9c88-e325c80f9b1d",
   "metadata": {},
   "outputs": [],
   "source": []
  }
 ],
 "metadata": {
  "kernelspec": {
   "display_name": "Python 3 (ipykernel)",
   "language": "python",
   "name": "python3"
  },
  "language_info": {
   "codemirror_mode": {
    "name": "ipython",
    "version": 3
   },
   "file_extension": ".py",
   "mimetype": "text/x-python",
   "name": "python",
   "nbconvert_exporter": "python",
   "pygments_lexer": "ipython3",
   "version": "3.13.5"
  }
 },
 "nbformat": 4,
 "nbformat_minor": 5
}
